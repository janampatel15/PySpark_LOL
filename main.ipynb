{
 "cells": [
  {
   "cell_type": "markdown",
   "metadata": {},
   "source": [
    "# League of Legends Tournament Analysis"
   ]
  },
  {
   "cell_type": "code",
   "execution_count": null,
   "metadata": {},
   "outputs": [],
   "source": []
  },
  {
   "cell_type": "code",
   "execution_count": 1,
   "metadata": {},
   "outputs": [],
   "source": [
    "import re\n",
    "\n",
    "import matplotlib.pyplot as plt\n",
    "import numpy as np\n",
    "import pandas as pd\n",
    "import pyspark.sql.functions as F\n",
    "import seaborn as sns\n",
    "from ipywidgets import widgets\n",
    "from pandas_profiling import ProfileReport\n",
    "from pyspark.ml.classification import LogisticRegression\n",
    "from pyspark.ml.feature import VectorAssembler\n",
    "from pyspark.mllib.evaluation import MulticlassMetrics\n",
    "from pyspark.sql import SparkSession\n",
    "from pyspark.sql.functions import *\n",
    "from pyspark.sql.types import *\n",
    "from sklearn.ensemble import RandomForestClassifier\n",
    "from sklearn.linear_model import LogisticRegression\n",
    "from sklearn.metrics import accuracy_score\n",
    "from sklearn.model_selection import GridSearchCV, train_test_split\n",
    "from sklearn.pipeline import Pipeline\n",
    "from sklearn.tree import DecisionTreeClassifier\n",
    "import warnings\n",
    "warnings.filterwarnings('ignore')\n"
   ]
  },
  {
   "cell_type": "code",
   "execution_count": 2,
   "metadata": {},
   "outputs": [
    {
     "data": {
      "text/html": [
       "\n",
       "            <div>\n",
       "                <p><b>SparkSession - in-memory</b></p>\n",
       "                \n",
       "        <div>\n",
       "            <p><b>SparkContext</b></p>\n",
       "\n",
       "            <p><a href=\"http://n3-12-254.dhcp.drexel.edu:4040\">Spark UI</a></p>\n",
       "\n",
       "            <dl>\n",
       "              <dt>Version</dt>\n",
       "                <dd><code>v3.1.1</code></dd>\n",
       "              <dt>Master</dt>\n",
       "                <dd><code>local[*]</code></dd>\n",
       "              <dt>AppName</dt>\n",
       "                <dd><code>League of Legends Tournament Analysis</code></dd>\n",
       "            </dl>\n",
       "        </div>\n",
       "        \n",
       "            </div>\n",
       "        "
      ],
      "text/plain": [
       "<pyspark.sql.session.SparkSession at 0x7fc03be674c0>"
      ]
     },
     "execution_count": 2,
     "metadata": {},
     "output_type": "execute_result"
    }
   ],
   "source": [
    "APP_NAME = \"League of Legends Tournament Analysis\"\n",
    "spark = SparkSession.builder.appName(APP_NAME).getOrCreate()\n",
    "spark"
   ]
  },
  {
   "cell_type": "code",
   "execution_count": 3,
   "metadata": {},
   "outputs": [],
   "source": [
    "cols = spark.read.options(inferSchema='True',header='True').csv(\"./leagueoflegends/Columns.csv\")"
   ]
  },
  {
   "cell_type": "code",
   "execution_count": 4,
   "metadata": {},
   "outputs": [
    {
     "name": "stdout",
     "output_type": "stream",
     "text": [
      "+----------------+--------------------------------------------------------------------------------------------------+\n",
      "|ColumnName      |ColumnDescription                                                                                 |\n",
      "+----------------+--------------------------------------------------------------------------------------------------+\n",
      "|MatchHistory    | website address the data is scraped from                                                         |\n",
      "|League          | League or Tournament the match took place in                                                     |\n",
      "|Season          | Season - Spring, Summer, Winter, or Tournament - the match took place in                         |\n",
      "|Year            | Year the match took place in                                                                     |\n",
      "|blueTeamTag     | Blue Team's tag name (ex. Team SoloMid is TSM)                                                   |\n",
      "|bResult         | Result of the match for Blue Team - 1 is a win, 0 is a loss                                      |\n",
      "|rResult         | Result of the match for Red Team - 1 is a win, 0 is a loss                                       |\n",
      "|redTeamTag      | Red Team's Tag Name (ex. Team SoloMid is TSM)                                                    |\n",
      "|gamelength      | Game length in minutes                                                                           |\n",
      "|golddiff        | Gold difference - computed Blue minus Red - by minute                                            |\n",
      "|goldblue        | Blue Team's total gold value by minute                                                           |\n",
      "|bKills          | List of Blue Team's kills - [Time in minutes, Victim, Killer, Assist1, Assist2, Assist3, Assist4]|\n",
      "|bTowers         | List of minutes that Blue Team destroyed a tower                                                 |\n",
      "|bInhibs         | List of minutes that Blue Team destroyed an inhibitor                                            |\n",
      "|bDragons        | List of minutes that Blue Team killed a dragon                                                   |\n",
      "|bBarons         | List of minutes that Blue Team killed a baron nashor                                             |\n",
      "|bHeralds        | List of minutes that Blue Team killed a rift herald                                              |\n",
      "|goldred         | Red Team's total gold value by minute                                                            |\n",
      "|rKills          | List of Red Team's kills - [Time in minutes, Victim, Killer, Assist1, Assist2, Assist3, Assist4] |\n",
      "|rTowers         | List of minutes that Red Team destroyed a tower                                                  |\n",
      "|rInhibs         | List of minutes that Red Team destroyed an inhibitor                                             |\n",
      "|rDragons        | List of minutes that Red Team killed a dragon                                                    |\n",
      "|rBarons         | List of minutes that Red Team killed a baron nashor                                              |\n",
      "|rHeralds        | List of minutes that Red Team killed a rift herald                                               |\n",
      "|blueTop         | Name of Blue Team's player in the top position                                                   |\n",
      "|blueTopChamp    | Name of Blue Team's champion in the top position                                                 |\n",
      "|goldblueTop     | Blue's Top position player's gold value by minute                                                |\n",
      "|blueJungle      | Name of Blue Team's player in the jungle position                                                |\n",
      "|blueJungleChamp | Name of Blue Team's champion in the jungle position                                              |\n",
      "|goldblueJungle  | Blue's Jungle position player's gold value by minute                                             |\n",
      "|blueMiddle      | Name of Blue Team's player in the middle position                                                |\n",
      "|blueMiddleChamp | Name of Blue Team's champion in the middle position                                              |\n",
      "|goldblueMiddle  | Blue's Middle position player's gold value by minute                                             |\n",
      "|blueADC         | Name of Blue Team's player in the ADC position                                                   |\n",
      "|blueADCChamp    | Name of Blue Team's champion in the ADC position                                                 |\n",
      "|goldblueADC     | Blue's ADC position player's gold value by minute                                                |\n",
      "|blueSupport     | Name of Blue Team's player in the support position                                               |\n",
      "|blueSupportChamp| Name of Blue's champion in the support position                                                  |\n",
      "|goldblueSupport | Blue's Support player's gold value by minute                                                     |\n",
      "|blueBans        | List of champions Blue Team banned (in order)                                                    |\n",
      "|redTop          | Name of Red Team's player in the top position                                                    |\n",
      "|redTopChamp     | Name of Red Team's champion in the top position                                                  |\n",
      "|goldredTop      | Red's Top position player's gold value by minute                                                 |\n",
      "|redJungle       | Name of Red Team's player in the jungle position                                                 |\n",
      "|redJungleChamp  | Name of Red Team's champion in the jungle position                                               |\n",
      "|goldredJungle   | Red's Jungle position player's gold value by minute                                              |\n",
      "|redMiddle       | Name of Red Team's player in the middle position                                                 |\n",
      "|redMiddleChamp  | Name of Red Team's champion in the middle position                                               |\n",
      "|goldredMiddle   | Red's Middle position player's gold value by minute                                              |\n",
      "|redADC          | Name of Red Team's player in the ADC position                                                    |\n",
      "|redADCChamp     | Name of Red Team's champion in the ADC position                                                  |\n",
      "|goldredADC      | Red's ADC position player's gold value by minute                                                 |\n",
      "|redSupportChamp | Name of Red Team's player in the support position                                                |\n",
      "|redSupport      | Name of Red Team's champion in the support position                                              |\n",
      "|goldredSupport  | Red's Support position player's gold value by minute                                             |\n",
      "|redBans         | List of champions Red Team banned (in order)                                                     |\n",
      "+----------------+--------------------------------------------------------------------------------------------------+\n",
      "\n"
     ]
    }
   ],
   "source": [
    "cols.show(60,truncate=False)"
   ]
  },
  {
   "cell_type": "code",
   "execution_count": 5,
   "metadata": {},
   "outputs": [
    {
     "data": {
      "text/plain": [
       "56"
      ]
     },
     "execution_count": 5,
     "metadata": {},
     "output_type": "execute_result"
    }
   ],
   "source": [
    "cols.count()"
   ]
  },
  {
   "cell_type": "markdown",
   "metadata": {},
   "source": [
    "We originally had 6 files containing different types of data from all different professional tournaments hosted by Riot Games. The **cols** Dataframe shows column name and their description. For the sake of this project, we're going to focus on only one file called **LeagueofLegends.csv**"
   ]
  },
  {
   "cell_type": "code",
   "execution_count": null,
   "metadata": {},
   "outputs": [],
   "source": []
  },
  {
   "cell_type": "code",
   "execution_count": 6,
   "metadata": {},
   "outputs": [],
   "source": [
    "lol = spark.read.options(inferSchema='True',header='True').csv(\"./leagueoflegends/LeagueofLegends.csv\")"
   ]
  },
  {
   "cell_type": "code",
   "execution_count": 7,
   "metadata": {},
   "outputs": [
    {
     "name": "stdout",
     "output_type": "stream",
     "text": [
      "root\n",
      " |-- League: string (nullable = true)\n",
      " |-- Year: integer (nullable = true)\n",
      " |-- Season: string (nullable = true)\n",
      " |-- Type: string (nullable = true)\n",
      " |-- blueTeamTag: string (nullable = true)\n",
      " |-- bResult: integer (nullable = true)\n",
      " |-- rResult: integer (nullable = true)\n",
      " |-- redTeamTag: string (nullable = true)\n",
      " |-- gamelength: integer (nullable = true)\n",
      " |-- golddiff: string (nullable = true)\n",
      " |-- goldblue: string (nullable = true)\n",
      " |-- bKills: string (nullable = true)\n",
      " |-- bTowers: string (nullable = true)\n",
      " |-- bInhibs: string (nullable = true)\n",
      " |-- bDragons: string (nullable = true)\n",
      " |-- bBarons: string (nullable = true)\n",
      " |-- bHeralds: string (nullable = true)\n",
      " |-- goldred: string (nullable = true)\n",
      " |-- rKills: string (nullable = true)\n",
      " |-- rTowers: string (nullable = true)\n",
      " |-- rInhibs: string (nullable = true)\n",
      " |-- rDragons: string (nullable = true)\n",
      " |-- rBarons: string (nullable = true)\n",
      " |-- rHeralds: string (nullable = true)\n",
      " |-- blueTop: string (nullable = true)\n",
      " |-- blueTopChamp: string (nullable = true)\n",
      " |-- goldblueTop: string (nullable = true)\n",
      " |-- blueJungle: string (nullable = true)\n",
      " |-- blueJungleChamp: string (nullable = true)\n",
      " |-- goldblueJungle: string (nullable = true)\n",
      " |-- blueMiddle: string (nullable = true)\n",
      " |-- blueMiddleChamp: string (nullable = true)\n",
      " |-- goldblueMiddle: string (nullable = true)\n",
      " |-- blueADC: string (nullable = true)\n",
      " |-- blueADCChamp: string (nullable = true)\n",
      " |-- goldblueADC: string (nullable = true)\n",
      " |-- blueSupport: string (nullable = true)\n",
      " |-- blueSupportChamp: string (nullable = true)\n",
      " |-- goldblueSupport: string (nullable = true)\n",
      " |-- blueBans: string (nullable = true)\n",
      " |-- redTop: string (nullable = true)\n",
      " |-- redTopChamp: string (nullable = true)\n",
      " |-- goldredTop: string (nullable = true)\n",
      " |-- redJungle: string (nullable = true)\n",
      " |-- redJungleChamp: string (nullable = true)\n",
      " |-- goldredJungle: string (nullable = true)\n",
      " |-- redMiddle: string (nullable = true)\n",
      " |-- redMiddleChamp: string (nullable = true)\n",
      " |-- goldredMiddle: string (nullable = true)\n",
      " |-- redADC: string (nullable = true)\n",
      " |-- redADCChamp: string (nullable = true)\n",
      " |-- goldredADC: string (nullable = true)\n",
      " |-- redSupport: string (nullable = true)\n",
      " |-- redSupportChamp: string (nullable = true)\n",
      " |-- goldredSupport: string (nullable = true)\n",
      " |-- redBans: string (nullable = true)\n",
      " |-- Address: string (nullable = true)\n",
      "\n"
     ]
    }
   ],
   "source": [
    "lol.printSchema()"
   ]
  },
  {
   "cell_type": "code",
   "execution_count": 8,
   "metadata": {},
   "outputs": [
    {
     "data": {
      "text/plain": [
       "57"
      ]
     },
     "execution_count": 8,
     "metadata": {},
     "output_type": "execute_result"
    }
   ],
   "source": [
    "len(lol.columns)"
   ]
  },
  {
   "cell_type": "code",
   "execution_count": 9,
   "metadata": {},
   "outputs": [
    {
     "data": {
      "text/plain": [
       "7620"
      ]
     },
     "execution_count": 9,
     "metadata": {},
     "output_type": "execute_result"
    }
   ],
   "source": [
    "lol.count()"
   ]
  },
  {
   "cell_type": "markdown",
   "metadata": {},
   "source": [
    "There are 57 different columns and 7620 samples in our LOL (League Of Legends) dataframe. A lot of these columns are not helpful in predicting game outcomes or to help make different EDAs. So, we'll be dropping them. "
   ]
  },
  {
   "cell_type": "code",
   "execution_count": null,
   "metadata": {},
   "outputs": [],
   "source": []
  },
  {
   "cell_type": "code",
   "execution_count": 10,
   "metadata": {},
   "outputs": [],
   "source": [
    "cols = ('Year', 'Season', 'Type', \"golddiff\", 'blueTop',\n",
    "        'blueTopChamp', 'goldblueTop', 'blueJungle', 'blueJungleChamp',\n",
    "        'goldblueJungle', 'blueMiddle', 'blueMiddleChamp', 'goldblueMiddle',\n",
    "        'blueADC', 'blueADCChamp', 'goldblueADC', 'blueSupport',\n",
    "        'blueSupportChamp', 'goldblueSupport', 'blueBans', 'redTop',\n",
    "        'redTopChamp', 'goldredTop', 'redJungle', 'redJungleChamp',\n",
    "        'goldredJungle', 'redMiddle', 'redMiddleChamp', 'goldredMiddle',\n",
    "        'redADC', 'redADCChamp', 'goldredADC', 'redSupport', 'redSupportChamp',\n",
    "        'goldredSupport', 'redBans', 'Address')\n",
    "\n",
    "lol = lol.drop(*cols)"
   ]
  },
  {
   "cell_type": "code",
   "execution_count": 11,
   "metadata": {},
   "outputs": [],
   "source": [
    "# copy dataframe over to a new variable\n",
    "lol1 = lol.select(\"*\")\n",
    "\n",
    "lol1 = lol1.filter('gamelength > 31')"
   ]
  },
  {
   "cell_type": "markdown",
   "metadata": {},
   "source": [
    "Only game stats where **gamelength** exceeds 31 minutes. We do this because a lot most professional games go past this mark and also because up until 30 mins, players are still gaining levels, collecting gold,  buying items etc. Usually we call this early stage of games. Although early stage of game, small leads and action plays a big role in team winning or losing a game"
   ]
  },
  {
   "cell_type": "code",
   "execution_count": 12,
   "metadata": {},
   "outputs": [
    {
     "data": {
      "text/plain": [
       "5622"
      ]
     },
     "execution_count": 12,
     "metadata": {},
     "output_type": "execute_result"
    }
   ],
   "source": [
    "# We have good amount of data\n",
    "lol1.count()"
   ]
  },
  {
   "cell_type": "code",
   "execution_count": null,
   "metadata": {},
   "outputs": [],
   "source": []
  },
  {
   "cell_type": "markdown",
   "metadata": {},
   "source": [
    "The function below gets mins marks in list, this functions get all the stats up until 30 mins marks any kills, or gold earned after isn't super advantageous because after 30 mins the game becomes heavily dependent on whole team rather than one single players. So function below gets the number of action (kills or objective taken) up until 30 mins"
   ]
  },
  {
   "cell_type": "code",
   "execution_count": 13,
   "metadata": {},
   "outputs": [],
   "source": [
    "def min_marks(x,length=30):\n",
    "\n",
    "    s=[]\n",
    "    for i in re.split(r\"\\[\\[|\\], \\[\",x):\n",
    "        try:\n",
    "            times = float(i.split(', ')[0])\n",
    "            if times <= length:\n",
    "                s.append(times)\n",
    "        except:\n",
    "            pass\n",
    "\n",
    "    return len(s)\n",
    "min_udf = udf(lambda x:min_marks(x),StringType())"
   ]
  },
  {
   "cell_type": "code",
   "execution_count": 14,
   "metadata": {},
   "outputs": [],
   "source": [
    "# apply yhe function min_marks on the following columns\n",
    "cols=['bKills','bTowers','bInhibs','bDragons','bBarons','bHeralds',\n",
    "        'rKills','rTowers','rInhibs','rDragons','rBarons','rHeralds']\n",
    "\n",
    "for i in cols:\n",
    "    lol1 = lol1.withColumn(i,min_udf(col(i)))"
   ]
  },
  {
   "cell_type": "code",
   "execution_count": 15,
   "metadata": {},
   "outputs": [
    {
     "name": "stdout",
     "output_type": "stream",
     "text": [
      "+------+-----------+-------+-------+----------+----------+--------------------+------+-------+-------+--------+-------+--------+--------------------+------+-------+-------+--------+-------+--------+\n",
      "|League|blueTeamTag|bResult|rResult|redTeamTag|gamelength|            goldblue|bKills|bTowers|bInhibs|bDragons|bBarons|bHeralds|             goldred|rKills|rTowers|rInhibs|rDragons|rBarons|rHeralds|\n",
      "+------+-----------+-------+-------+----------+----------+--------------------+------+-------+-------+--------+-------+--------+--------------------+------+-------+-------+--------+-------+--------+\n",
      "| NALCS|        TSM|      1|      0|        C9|        40|[2415, 2415, 2711...|     9|      6|      1|       0|      0|       0|[2415, 2415, 2725...|     5|      3|      0|       2|      0|       0|\n",
      "| NALCS|        CST|      0|      1|       DIG|        38|[2415, 2415, 2705...|     8|      5|      0|       2|      0|       0|[2415, 2415, 2731...|     7|      5|      0|       1|      0|       0|\n",
      "| NALCS|        WFX|      1|      0|        GV|        40|[2415, 2415, 2726...|    15|      6|      0|       2|      0|       0|[2415, 2415, 2716...|     7|      1|      0|       0|      0|       0|\n",
      "+------+-----------+-------+-------+----------+----------+--------------------+------+-------+-------+--------+-------+--------+--------------------+------+-------+-------+--------+-------+--------+\n",
      "only showing top 3 rows\n",
      "\n"
     ]
    }
   ],
   "source": [
    "# small glimpse of data\n",
    "lol1.show(3)"
   ]
  },
  {
   "cell_type": "code",
   "execution_count": null,
   "metadata": {},
   "outputs": [],
   "source": []
  },
  {
   "cell_type": "markdown",
   "metadata": {},
   "source": [
    "The **goldBlue** and **goldRed** is a list of gold from each min mark. We only want last recorded gold amount for the team. Function below (final_gold) will do that job for us.\n"
   ]
  },
  {
   "cell_type": "code",
   "execution_count": 16,
   "metadata": {},
   "outputs": [],
   "source": [
    "def final_gold(x):   \n",
    "    s=[]\n",
    "    for i in re.split(r\"\\[|, \",x):\n",
    "        try:\n",
    "            gold = int(i)\n",
    "            s.append(gold)\n",
    "        except:\n",
    "            pass\n",
    "\n",
    "    return s[-1]\n",
    "\n",
    "gold_udf = udf(lambda x:final_gold(x),StringType())"
   ]
  },
  {
   "cell_type": "code",
   "execution_count": 17,
   "metadata": {},
   "outputs": [],
   "source": [
    "# applying funciton to goldblue and goldred\n",
    "lol1 = lol1.withColumn('goldblue',gold_udf(col('goldblue')))\n",
    "lol1 = lol1.withColumn('goldred',gold_udf(col('goldred')))"
   ]
  },
  {
   "cell_type": "code",
   "execution_count": 18,
   "metadata": {},
   "outputs": [
    {
     "name": "stdout",
     "output_type": "stream",
     "text": [
      "+--------+-------+\n",
      "|goldblue|goldred|\n",
      "+--------+-------+\n",
      "|   59940|  55254|\n",
      "|   56911|  53185|\n",
      "|   68928|  55004|\n",
      "+--------+-------+\n",
      "only showing top 3 rows\n",
      "\n"
     ]
    }
   ],
   "source": [
    "# thats alot better\n",
    "lol1.select('goldblue','goldred').show(3)"
   ]
  },
  {
   "cell_type": "code",
   "execution_count": 19,
   "metadata": {},
   "outputs": [],
   "source": [
    "# copying blue and red team tags and result \n",
    "lol1 = lol1.withColumn(\"blueTeamTag\", lol[\"blueTeamTag\"])\n",
    "lol1 = lol1.withColumn(\"blueResult\", lol[\"bResult\"])\n",
    "lol1 = lol1.withColumn(\"redTeamTag\", lol[\"redTeamTag\"])\n",
    "lol1 = lol1.withColumn(\"redResult\", lol[\"rResult\"])\n"
   ]
  },
  {
   "cell_type": "code",
   "execution_count": null,
   "metadata": {},
   "outputs": [],
   "source": []
  },
  {
   "cell_type": "markdown",
   "metadata": {},
   "source": [
    "Below, we create a new column called **Winner**. Winner will have value of 0 if blue team won, and 1 if red team won."
   ]
  },
  {
   "cell_type": "code",
   "execution_count": 20,
   "metadata": {},
   "outputs": [
    {
     "name": "stdout",
     "output_type": "stream",
     "text": [
      "+----------+---------+------+\n",
      "|blueResult|redResult|Winner|\n",
      "+----------+---------+------+\n",
      "|         1|        0|     0|\n",
      "|         0|        1|     1|\n",
      "+----------+---------+------+\n",
      "only showing top 2 rows\n",
      "\n"
     ]
    }
   ],
   "source": [
    "lol1 = lol1.withColumn(\"Winner\", when((lol1.blueResult == 1), lit(0)).otherwise(lit(1)) )\n",
    "\n",
    "lol1.select('blueResult','redResult','Winner').show(2)"
   ]
  },
  {
   "cell_type": "markdown",
   "metadata": {},
   "source": [
    "Now we drop the **blueResult**, and **redResult** columns since we have the Winner Column."
   ]
  },
  {
   "cell_type": "code",
   "execution_count": 21,
   "metadata": {},
   "outputs": [],
   "source": [
    "cols_1 = ('blueResult', 'redResult', 'bResult', 'rResult')\n",
    "lol1 = lol1.drop(*cols_1)"
   ]
  },
  {
   "cell_type": "code",
   "execution_count": 22,
   "metadata": {},
   "outputs": [],
   "source": [
    "change_dataype = [\n",
    "    'goldblue', 'bKills', 'bTowers', 'bInhibs', 'bDragons', 'bBarons',\n",
    "    'bHeralds', 'goldred', 'rKills', 'rTowers', 'rInhibs', 'rDragons',\n",
    "    'rBarons', 'rHeralds'\n",
    "]\n",
    "for i in change_dataype:\n",
    "    lol1 = lol1.withColumn(i, lol1[i].cast('int'))"
   ]
  },
  {
   "cell_type": "code",
   "execution_count": 23,
   "metadata": {},
   "outputs": [
    {
     "name": "stdout",
     "output_type": "stream",
     "text": [
      "root\n",
      " |-- League: string (nullable = true)\n",
      " |-- blueTeamTag: string (nullable = true)\n",
      " |-- redTeamTag: string (nullable = true)\n",
      " |-- gamelength: integer (nullable = true)\n",
      " |-- goldblue: integer (nullable = true)\n",
      " |-- bKills: integer (nullable = true)\n",
      " |-- bTowers: integer (nullable = true)\n",
      " |-- bInhibs: integer (nullable = true)\n",
      " |-- bDragons: integer (nullable = true)\n",
      " |-- bBarons: integer (nullable = true)\n",
      " |-- bHeralds: integer (nullable = true)\n",
      " |-- goldred: integer (nullable = true)\n",
      " |-- rKills: integer (nullable = true)\n",
      " |-- rTowers: integer (nullable = true)\n",
      " |-- rInhibs: integer (nullable = true)\n",
      " |-- rDragons: integer (nullable = true)\n",
      " |-- rBarons: integer (nullable = true)\n",
      " |-- rHeralds: integer (nullable = true)\n",
      " |-- Winner: integer (nullable = false)\n",
      "\n"
     ]
    }
   ],
   "source": [
    "lol1.printSchema()"
   ]
  },
  {
   "cell_type": "code",
   "execution_count": 24,
   "metadata": {},
   "outputs": [
    {
     "data": {
      "text/plain": [
       "19"
      ]
     },
     "execution_count": 24,
     "metadata": {},
     "output_type": "execute_result"
    }
   ],
   "source": [
    "len(lol1.columns)"
   ]
  },
  {
   "cell_type": "markdown",
   "metadata": {},
   "source": [
    "# Task 1\n",
    "Here we will use Pandas_Profiling module which will create a report for us. This will provides us with some important insights like Correlations"
   ]
  },
  {
   "cell_type": "code",
   "execution_count": 24,
   "metadata": {},
   "outputs": [],
   "source": [
    "from pandas_profiling import ProfileReport\n",
    "from ipywidgets import widgets"
   ]
  },
  {
   "cell_type": "code",
   "execution_count": 25,
   "metadata": {},
   "outputs": [],
   "source": [
    "lol_report = lol1.withColumn(\"Blue Total Objective\", lol1.bTowers + lol1.bInhibs + lol1.bDragons +\n",
    "                lol1.bBarons + lol1.bHeralds)\\\n",
    "                .withColumn(\"Red Total Objective\", lol1.rTowers + lol1.rInhibs + lol1.rDragons +\n",
    "                lol1.rBarons + lol1.rHeralds)\\\n",
    "                .select('gamelength','goldblue','bKills','Blue Total Objective','goldred',\n",
    "                        'rKills','Red Total Objective','winner').toPandas()"
   ]
  },
  {
   "cell_type": "code",
   "execution_count": 26,
   "metadata": {},
   "outputs": [],
   "source": [
    "profile = ProfileReport(lol_report,html={'style':{'full_width':True}})"
   ]
  },
  {
   "cell_type": "code",
   "execution_count": 27,
   "metadata": {},
   "outputs": [
    {
     "data": {
      "application/vnd.jupyter.widget-view+json": {
       "model_id": "6cd16b6db8704b88a45f1368dc76e35b",
       "version_major": 2,
       "version_minor": 0
      },
      "text/plain": [
       "Summarize dataset:   0%|          | 0/21 [00:00<?, ?it/s]"
      ]
     },
     "metadata": {},
     "output_type": "display_data"
    },
    {
     "data": {
      "application/vnd.jupyter.widget-view+json": {
       "model_id": "e39c7e18df254702aad78f9680d872f1",
       "version_major": 2,
       "version_minor": 0
      },
      "text/plain": [
       "Generate report structure:   0%|          | 0/1 [00:00<?, ?it/s]"
      ]
     },
     "metadata": {},
     "output_type": "display_data"
    },
    {
     "data": {
      "application/vnd.jupyter.widget-view+json": {
       "model_id": "",
       "version_major": 2,
       "version_minor": 0
      },
      "text/plain": [
       "Render widgets:   0%|          | 0/1 [00:00<?, ?it/s]"
      ]
     },
     "metadata": {},
     "output_type": "display_data"
    },
    {
     "data": {
      "application/vnd.jupyter.widget-view+json": {
       "model_id": "c65f0cd8aea542e5847ab929dcce9e04",
       "version_major": 2,
       "version_minor": 0
      },
      "text/plain": [
       "VBox(children=(Tab(children=(Tab(children=(GridBox(children=(VBox(children=(GridspecLayout(children=(HTML(valu…"
      ]
     },
     "metadata": {},
     "output_type": "display_data"
    }
   ],
   "source": [
    "profile.to_widgets()"
   ]
  },
  {
   "cell_type": "code",
   "execution_count": 28,
   "metadata": {},
   "outputs": [
    {
     "data": {
      "application/vnd.jupyter.widget-view+json": {
       "model_id": "bc7c0ac5f2ef4ed9b19908a265fffe1d",
       "version_major": 2,
       "version_minor": 0
      },
      "text/plain": [
       "Render HTML:   0%|          | 0/1 [00:00<?, ?it/s]"
      ]
     },
     "metadata": {},
     "output_type": "display_data"
    },
    {
     "data": {
      "application/vnd.jupyter.widget-view+json": {
       "model_id": "b177d33879a94dc7989605fb266f6a83",
       "version_major": 2,
       "version_minor": 0
      },
      "text/plain": [
       "Export report to file:   0%|          | 0/1 [00:00<?, ?it/s]"
      ]
     },
     "metadata": {},
     "output_type": "display_data"
    }
   ],
   "source": [
    "profile.to_file(\"League_Pandas_Profiling.html\")"
   ]
  },
  {
   "cell_type": "code",
   "execution_count": 38,
   "metadata": {},
   "outputs": [],
   "source": [
    "lol_report = lol_report.rename(columns={\"Blue Total Objective\": \"Blue_Obj\", \"Red Total Objective\": \"Red_Obj\",})\n"
   ]
  },
  {
   "cell_type": "code",
   "execution_count": 39,
   "metadata": {},
   "outputs": [
    {
     "data": {
      "text/plain": [
       "<AxesSubplot:>"
      ]
     },
     "execution_count": 39,
     "metadata": {},
     "output_type": "execute_result"
    },
    {
     "data": {
      "image/png": "[encoded data removed]",
      "text/plain": [
       "<Figure size 432x288 with 1 Axes>"
      ]
     },
     "metadata": {
      "needs_background": "light"
     },
     "output_type": "display_data"
    }
   ],
   "source": [
    "sns.heatmap(lol_report.corr(),annot=True, cmap=\"Blues\",cbar=False)"
   ]
  },
  {
   "cell_type": "markdown",
   "metadata": {},
   "source": [
    "From Report shown above or [here](./League_Pandas_Profiling.html). Under Overview and Warnings tab, we are shown that **gamelength** has High correlation with **goldblue**, and **goldred**. This is understandable since as the game goes on, earning gold from killing mini monsters or taking objectives or killing opponents grants you gold. Also, players gain gold 20.4 gold per minute passively. \n",
    "\n",
    "According to report, we don't have any null values as well which is perfect. \n",
    "\n",
    "Although, we have high number of zeros in **bKills, Blue Total Objective, rKills, and Red Total Objective** which is surprising since pro tournament games having team which had **0 kills and/or 0 objectives** is rare. Most likely it means that the opposing team dominated the game."
   ]
  },
  {
   "cell_type": "code",
   "execution_count": null,
   "metadata": {},
   "outputs": [],
   "source": []
  },
  {
   "cell_type": "markdown",
   "metadata": {},
   "source": [
    "# Task 2\n",
    "Which side of the map, **Blue or Red**, has the most number of wins?"
   ]
  },
  {
   "cell_type": "code",
   "execution_count": 24,
   "metadata": {},
   "outputs": [],
   "source": [
    "# Numbers of wins comparions for blue vs. red side of the map\n",
    "wins_side = lol1.groupBy('winner').count().toPandas()"
   ]
  },
  {
   "cell_type": "code",
   "execution_count": 25,
   "metadata": {},
   "outputs": [
    {
     "data": {
      "image/png": "[encoded data removed]",
      "text/plain": [
       "<Figure size 360x360 with 1 Axes>"
      ]
     },
     "metadata": {
      "needs_background": "light"
     },
     "output_type": "display_data"
    }
   ],
   "source": [
    "plt.figure(figsize=(5,5))\n",
    "\n",
    "sns.barplot(x=\"winner\", y=\"count\",data=wins_side, palette=[\"blue\",\"red\"])\n",
    "plt.title('Blue vs. Red side Winners')\n",
    "plt.show()\n",
    "# 0 is the blue side, and orange is the red side."
   ]
  },
  {
   "cell_type": "code",
   "execution_count": 26,
   "metadata": {},
   "outputs": [
    {
     "data": {
      "text/html": [
       "<div>\n",
       "<style scoped>\n",
       "    .dataframe tbody tr th:only-of-type {\n",
       "        vertical-align: middle;\n",
       "    }\n",
       "\n",
       "    .dataframe tbody tr th {\n",
       "        vertical-align: top;\n",
       "    }\n",
       "\n",
       "    .dataframe thead th {\n",
       "        text-align: right;\n",
       "    }\n",
       "</style>\n",
       "<table border=\"1\" class=\"dataframe\">\n",
       "  <thead>\n",
       "    <tr style=\"text-align: right;\">\n",
       "      <th></th>\n",
       "      <th>winner</th>\n",
       "      <th>count</th>\n",
       "    </tr>\n",
       "  </thead>\n",
       "  <tbody>\n",
       "    <tr>\n",
       "      <th>0</th>\n",
       "      <td>1</td>\n",
       "      <td>2662</td>\n",
       "    </tr>\n",
       "    <tr>\n",
       "      <th>1</th>\n",
       "      <td>0</td>\n",
       "      <td>2960</td>\n",
       "    </tr>\n",
       "  </tbody>\n",
       "</table>\n",
       "</div>"
      ],
      "text/plain": [
       "   winner  count\n",
       "0       1   2662\n",
       "1       0   2960"
      ]
     },
     "execution_count": 26,
     "metadata": {},
     "output_type": "execute_result"
    }
   ],
   "source": [
    "wins_side"
   ]
  },
  {
   "cell_type": "markdown",
   "metadata": {},
   "source": [
    "Usually when we think of game maps, we think its designed fairly for both team sides and in this case that's true. But the reason that **Blue (0)** has more win count compared to red is because of players play style. In game, you're allowed to play with locked screen, where screen is locked on to your champion's (character) movements and unlocked screen, where player can explore map with mouse hover. \n",
    "\n",
    "Playing with lock screen seems to be harder when on the red side of the map based on Pro players interviews and personal experience."
   ]
  },
  {
   "cell_type": "code",
   "execution_count": null,
   "metadata": {},
   "outputs": [],
   "source": []
  },
  {
   "cell_type": "markdown",
   "metadata": {},
   "source": [
    "# Task 3\n",
    "Now we know that there is slight advantage when playing on the blue side of the map. Let's see the top 5 team's\n",
    "gold count when they play on blue side compare it to when they play on the red side of the map."
   ]
  },
  {
   "cell_type": "code",
   "execution_count": 27,
   "metadata": {},
   "outputs": [],
   "source": [
    "bGold = lol1.groupBy('blueTeamTag').sum(\"goldblue\")\\\n",
    "            .orderBy('sum(goldblue)', ascending=False)\\\n",
    "            .withColumnRenamed(\"sum(goldblue)\", \"Gold\")\\\n",
    "            .withColumnRenamed(\"blueTeamTag\", \"Teams\")\n",
    "\n",
    "p_bGold = bGold.toPandas()[:5]\n",
    "p_bGold['side'] = 'Blue Side'"
   ]
  },
  {
   "cell_type": "code",
   "execution_count": 28,
   "metadata": {},
   "outputs": [
    {
     "data": {
      "text/html": [
       "<div>\n",
       "<style scoped>\n",
       "    .dataframe tbody tr th:only-of-type {\n",
       "        vertical-align: middle;\n",
       "    }\n",
       "\n",
       "    .dataframe tbody tr th {\n",
       "        vertical-align: top;\n",
       "    }\n",
       "\n",
       "    .dataframe thead th {\n",
       "        text-align: right;\n",
       "    }\n",
       "</style>\n",
       "<table border=\"1\" class=\"dataframe\">\n",
       "  <thead>\n",
       "    <tr style=\"text-align: right;\">\n",
       "      <th></th>\n",
       "      <th>Teams</th>\n",
       "      <th>Gold</th>\n",
       "      <th>side</th>\n",
       "    </tr>\n",
       "  </thead>\n",
       "  <tbody>\n",
       "    <tr>\n",
       "      <th>0</th>\n",
       "      <td>SKT</td>\n",
       "      <td>9630871</td>\n",
       "      <td>Blue Side</td>\n",
       "    </tr>\n",
       "    <tr>\n",
       "      <th>1</th>\n",
       "      <td>SSG</td>\n",
       "      <td>8850898</td>\n",
       "      <td>Blue Side</td>\n",
       "    </tr>\n",
       "    <tr>\n",
       "      <th>2</th>\n",
       "      <td>kt</td>\n",
       "      <td>8631637</td>\n",
       "      <td>Blue Side</td>\n",
       "    </tr>\n",
       "    <tr>\n",
       "      <th>3</th>\n",
       "      <td>JAG</td>\n",
       "      <td>8348230</td>\n",
       "      <td>Blue Side</td>\n",
       "    </tr>\n",
       "    <tr>\n",
       "      <th>4</th>\n",
       "      <td>FNC</td>\n",
       "      <td>7524742</td>\n",
       "      <td>Blue Side</td>\n",
       "    </tr>\n",
       "  </tbody>\n",
       "</table>\n",
       "</div>"
      ],
      "text/plain": [
       "  Teams     Gold       side\n",
       "0   SKT  9630871  Blue Side\n",
       "1   SSG  8850898  Blue Side\n",
       "2    kt  8631637  Blue Side\n",
       "3   JAG  8348230  Blue Side\n",
       "4   FNC  7524742  Blue Side"
      ]
     },
     "execution_count": 28,
     "metadata": {},
     "output_type": "execute_result"
    }
   ],
   "source": [
    "p_bGold"
   ]
  },
  {
   "cell_type": "code",
   "execution_count": 29,
   "metadata": {
    "scrolled": true
   },
   "outputs": [],
   "source": [
    "# Now let's see the same team's gold stat when they play on the red side of the map.\n",
    "\n",
    "\n",
    "p_rGold = lol1.groupBy('redTeamTag').sum(\"goldred\").filter( (lol1.redTeamTag  == \"SKT\") | (lol1.redTeamTag  == \"SSG\") |\n",
    "               (lol1.redTeamTag  == \"kt\") | (lol1.redTeamTag  == \"JAG\") |\n",
    "               (lol1.redTeamTag  == \"FNC\")\n",
    "              ).withColumnRenamed(\"sum(goldred)\",\"Gold\").withColumnRenamed(\"redTeamTag\",\"Teams\")\n",
    "\n",
    "p_rGold = p_rGold.toPandas()\n",
    "p_rGold['side']='Red Side'"
   ]
  },
  {
   "cell_type": "code",
   "execution_count": 30,
   "metadata": {},
   "outputs": [],
   "source": [
    "# concat the dataframes for graphing purpose\n",
    "g1 = pd.concat([p_bGold[:5],p_rGold[:5]],0)"
   ]
  },
  {
   "cell_type": "code",
   "execution_count": 31,
   "metadata": {},
   "outputs": [
    {
     "data": {
      "image/png": "[encoded data removed]",
      "text/plain": [
       "<Figure size 432x432 with 1 Axes>"
      ]
     },
     "metadata": {
      "needs_background": "light"
     },
     "output_type": "display_data"
    }
   ],
   "source": [
    "plt.figure(figsize=(6,6))\n",
    "\n",
    "sns.set_theme(style=\"darkgrid\")\n",
    "\n",
    "sns.barplot(x=\"Teams\", y=\"Gold\",hue=\"side\",data=g1)\n",
    "plt.title('5 Teams Gold Diff. for Red vs. Blue Side\\n')\n",
    "plt.show()"
   ]
  },
  {
   "cell_type": "markdown",
   "metadata": {},
   "source": [
    "It seems that out of top 5 team who earned the most gold when on the blue side, **SKT** and **JAG** team are the only one who turned out to be earning more gold on the red side. Let's see how many teams are actually earning more gold on the red side compared to blue."
   ]
  },
  {
   "cell_type": "code",
   "execution_count": 32,
   "metadata": {
    "scrolled": true
   },
   "outputs": [],
   "source": [
    "comp = lol1.groupBy('blueTeamTag').sum(\"goldblue\")\\\n",
    "            .orderBy('sum(goldblue)', ascending=False)\\\n",
    "            .withColumnRenamed(\"sum(goldblue)\", \"bGold\")\\\n",
    "            .withColumnRenamed(\"blueTeamTag\", \"Teams\")\n",
    "\n",
    "comp1 = lol1.groupBy('redTeamTag').sum(\"goldred\")\\\n",
    "                .orderBy('sum(goldred)', ascending=False)\\\n",
    "                .withColumnRenamed(\"sum(goldred)\", \"rGold\")\\\n",
    "                .withColumnRenamed(\"redTeamTag\", \"Teams\")"
   ]
  },
  {
   "cell_type": "code",
   "execution_count": 33,
   "metadata": {},
   "outputs": [],
   "source": [
    "compare_gold = comp.join(comp1, on=['Teams'], how='outer')"
   ]
  },
  {
   "cell_type": "code",
   "execution_count": 48,
   "metadata": {},
   "outputs": [
    {
     "name": "stdout",
     "output_type": "stream",
     "text": [
      "244 Total Teams, and 108 teams earned more gold on red side\n"
     ]
    }
   ],
   "source": [
    "rg = compare_gold.filter('bGold < rGold').count()\n",
    "bg = compare_gold.filter('bGold > rGold').count()\n",
    "a = compare_gold.select(\"Teams\").distinct().count()\n",
    "\n",
    "print(f\"{a} Total Teams, and {rg} teams earned more gold on red side\")"
   ]
  },
  {
   "cell_type": "markdown",
   "metadata": {},
   "source": [
    "So, out of **244** teams, **108** teams have actually earned more gold on red side of the map than compared to the blue side of the map."
   ]
  },
  {
   "cell_type": "code",
   "execution_count": 53,
   "metadata": {},
   "outputs": [
    {
     "data": {
      "image/png": "[encoded data removed]",
      "text/plain": [
       "<Figure size 432x288 with 1 Axes>"
      ]
     },
     "metadata": {},
     "output_type": "display_data"
    }
   ],
   "source": [
    "data=[rg,bg]\n",
    "\n",
    "labels=['Blue Team Gold', 'Red Team Gold']\n",
    "\n",
    "plt.pie(data, autopct = '%0.0f%%',labels=labels)\n",
    "# plt.legend()\n",
    "plt.title('Team Gold Blue vs. Red Side')\n",
    "plt.show()"
   ]
  },
  {
   "cell_type": "markdown",
   "metadata": {},
   "source": [
    "# Task 4\n",
    "Total Kills and Total Objective taken. \n",
    "\n",
    "Objectives include Turrets, Inhibitors, Dragons, Barons and Heralds\n",
    "\n",
    "- Dragons, Barons and Heralds are Giant Monster which grants special rewards\n",
    "- Turrets and Inhibitors are structures defending your respective team side."
   ]
  },
  {
   "cell_type": "code",
   "execution_count": 55,
   "metadata": {},
   "outputs": [],
   "source": [
    "blue_side_kills = lol1.groupBy().sum('bKills').withColumnRenamed(\"sum(bKills)\",\"Kills\").toPandas()\n",
    "red_side_kills = lol1.groupBy().sum('rKills').withColumnRenamed(\"sum(rKills)\",\"Kills\").toPandas()"
   ]
  },
  {
   "cell_type": "code",
   "execution_count": 56,
   "metadata": {},
   "outputs": [],
   "source": [
    "c = pd.concat([blue_side_kills,red_side_kills],0).reset_index(drop=True).set_index(pd.Index(['Blue','Red']))"
   ]
  },
  {
   "cell_type": "code",
   "execution_count": 57,
   "metadata": {},
   "outputs": [],
   "source": [
    "blue_obj = lol1.withColumn(\"Total Objective\", lol1.bTowers + lol1.bInhibs + lol1.bDragons \n",
    "                           + lol1.bBarons + lol1.bHeralds)\\\n",
    "                            .select('Total Objective')\n",
    "\n",
    "red_obj = lol1.withColumn(\"Total Objective\", lol1.rTowers + lol1.rInhibs + lol1.rDragons \n",
    "                          + lol1.rBarons + lol1.rHeralds)\\\n",
    "                            .select('Total Objective')\n"
   ]
  },
  {
   "cell_type": "code",
   "execution_count": 58,
   "metadata": {},
   "outputs": [],
   "source": [
    "bObj = blue_obj.groupBy().sum('Total Objective').withColumnRenamed('sum(Total Objective)','Objective').toPandas()\n",
    "rObj = red_obj.groupBy().sum('Total Objective').withColumnRenamed('sum(Total Objective)','Objective').toPandas()"
   ]
  },
  {
   "cell_type": "code",
   "execution_count": 59,
   "metadata": {},
   "outputs": [],
   "source": [
    "d = pd.concat([bObj,rObj],0).reset_index(drop=True).set_index(pd.Index(['Blue','Red']))"
   ]
  },
  {
   "cell_type": "code",
   "execution_count": 60,
   "metadata": {},
   "outputs": [
    {
     "data": {
      "image/png": "[encoded data removed]",
      "text/plain": [
       "<Figure size 432x288 with 1 Axes>"
      ]
     },
     "metadata": {},
     "output_type": "display_data"
    }
   ],
   "source": [
    "sns.set_style(\"darkgrid\")\n",
    "# fig, axes = plt.subplots(1, 2, figsize=(12,5))\n",
    "sns.barplot(x=c.index, y='Kills',data=c).set(title='Kills Count for Blue and Red')\n",
    "plt.show()"
   ]
  },
  {
   "cell_type": "code",
   "execution_count": 61,
   "metadata": {},
   "outputs": [
    {
     "data": {
      "image/png": "[encoded data removed]",
      "text/plain": [
       "<Figure size 432x288 with 1 Axes>"
      ]
     },
     "metadata": {},
     "output_type": "display_data"
    }
   ],
   "source": [
    "sns.set_style(\"darkgrid\")\n",
    "\n",
    "sns.barplot(x=d.index, y='Objective',data=d).set(title='# of Objectives Taken for Blue and Red')\n",
    "plt.show()"
   ]
  },
  {
   "cell_type": "markdown",
   "metadata": {},
   "source": [
    "Both Blue and red side are about equal in number kills and objectives taken. This also proves that both red and blue side of the map are designed equally for the team to play. It's just the players preference on their play style that shows little advantage for the blue side."
   ]
  },
  {
   "cell_type": "code",
   "execution_count": null,
   "metadata": {},
   "outputs": [],
   "source": []
  },
  {
   "cell_type": "markdown",
   "metadata": {},
   "source": [
    "# Task  5\n",
    "Compute CDF for the game length"
   ]
  },
  {
   "cell_type": "code",
   "execution_count": 45,
   "metadata": {},
   "outputs": [
    {
     "data": {
      "text/plain": [
       "<AxesSubplot:title={'center':'Game Length CDF'}, xlabel='gamelength', ylabel='Proportion'>"
      ]
     },
     "execution_count": 45,
     "metadata": {},
     "output_type": "execute_result"
    },
    {
     "data": {
      "image/png": "[encoded data removed]",
      "text/plain": [
       "<Figure size 720x576 with 1 Axes>"
      ]
     },
     "metadata": {},
     "output_type": "display_data"
    }
   ],
   "source": [
    "plt.figure(figsize=(10, 8))\n",
    "cdf = lol.select('gamelength').toPandas()\n",
    "g = sns.ecdfplot(data=cdf, x=\"gamelength\")\n",
    "g.set_yticks(np.arange(0, 1.2, .1))\n",
    "g.set(title='Game Length CDF')\n",
    "g"
   ]
  },
  {
   "cell_type": "markdown",
   "metadata": {},
   "source": [
    "Things to note from the graph above:\n",
    "\n",
    "    - 90% of the game lasts for about 50 minutes or less in game time\n",
    "    - 10% of games that lasts for more than 50 minutes\n",
    "    - 10% of games end before 30 minutes\n",
    "    \n",
    "It's a good thing that we only kept data for games that lasted for 30 minutes or more, because that's when we get to see the players full potential with champions and team plays. Games ending before 30 minutes are usually result of one team dominating early game."
   ]
  },
  {
   "cell_type": "code",
   "execution_count": null,
   "metadata": {},
   "outputs": [],
   "source": []
  },
  {
   "cell_type": "markdown",
   "metadata": {},
   "source": [
    "# Task 6\n",
    "\n",
    "What is number of Wins and Losses for each League?"
   ]
  },
  {
   "cell_type": "code",
   "execution_count": 62,
   "metadata": {},
   "outputs": [],
   "source": [
    "lost = lol1.groupby('League','Winner').count().filter('Winner != 0').select('League','count').toPandas()\n",
    "won = lol1.groupby('League','Winner').count().filter('Winner == 0').select('League','count').toPandas()"
   ]
  },
  {
   "cell_type": "code",
   "execution_count": 71,
   "metadata": {},
   "outputs": [],
   "source": [
    "bar = won.merge(lost,on='League')\n",
    "bar['total']=bar['count_x']+bar['count_y']\n",
    "bar = bar.sort_values('total',ascending=False).reset_index(drop=True)"
   ]
  },
  {
   "cell_type": "code",
   "execution_count": 64,
   "metadata": {},
   "outputs": [
    {
     "data": {
      "image/png": "[encoded data removed]",
      "text/plain": [
       "<Figure size 432x432 with 1 Axes>"
      ]
     },
     "metadata": {},
     "output_type": "display_data"
    }
   ],
   "source": [
    "plt.figure(figsize=(6, 6))\n",
    "\n",
    "sns.set_theme(style=\"darkgrid\")\n",
    "sns.set_color_codes(\"pastel\")\n",
    "g = sns.barplot(x=\"count_x\", y=\"League\", data=bar, label=\"Winners\", color=\"b\")\n",
    "\n",
    "# Plot the crashes where alcohol was involved\n",
    "sns.set_color_codes(\"muted\")\n",
    "g = sns.barplot(x=\"count_y\", y=\"League\", data=bar, label=\"Losers\", color=\"b\")\n",
    "\n",
    "g.set_xlabel(\"Count\")\n",
    "\n",
    "plt.title('Number of Wins vs. Loss for Each League')\n",
    "plt.legend()\n",
    "plt.show()"
   ]
  },
  {
   "cell_type": "markdown",
   "metadata": {},
   "source": [
    "Based on the graph above, it looks like that LCK had the most number of games played and won the most number of Tournaments, followed by NALCS and EULCS. Why is that? Maybe they have stronger teams compared to other Leagues. Let's see the teams who have won the most number of games."
   ]
  },
  {
   "cell_type": "code",
   "execution_count": 49,
   "metadata": {},
   "outputs": [],
   "source": [
    "blue_t = lol1.groupby('League','blueTeamTag','Winner')\\\n",
    "            .count()\\\n",
    "            .filter('Winner == 0')\\\n",
    "            .orderBy('count',ascending=False)\\\n",
    "            .withColumnRenamed('blueTeamTag','Team')\\\n",
    "            .withColumnRenamed('count','bCount')\\\n",
    "            .select('League','Team','bCount')\\\n",
    "            .toPandas()\n",
    "\n",
    "red_t = lol1.groupby('League','redTeamTag','Winner')\\\n",
    "            .count()\\\n",
    "            .filter('Winner == 0')\\\n",
    "            .orderBy('count',ascending=False)\\\n",
    "            .withColumnRenamed('redTeamTag','Team')\\\n",
    "            .withColumnRenamed('count','rCount')\\\n",
    "            .select('League','Team','rCount')\\\n",
    "            .toPandas()"
   ]
  },
  {
   "cell_type": "code",
   "execution_count": 50,
   "metadata": {},
   "outputs": [],
   "source": [
    "win_count = blue_t.merge(red_t).head(10)\n",
    "win_count['total'] = win_count['bCount'] + win_count['rCount']\n",
    "win_count = win_count.sort_values('total',ascending=False).reset_index(drop=True)"
   ]
  },
  {
   "cell_type": "code",
   "execution_count": 51,
   "metadata": {},
   "outputs": [
    {
     "data": {
      "text/html": [
       "<div>\n",
       "<style scoped>\n",
       "    .dataframe tbody tr th:only-of-type {\n",
       "        vertical-align: middle;\n",
       "    }\n",
       "\n",
       "    .dataframe tbody tr th {\n",
       "        vertical-align: top;\n",
       "    }\n",
       "\n",
       "    .dataframe thead th {\n",
       "        text-align: right;\n",
       "    }\n",
       "</style>\n",
       "<table border=\"1\" class=\"dataframe\">\n",
       "  <thead>\n",
       "    <tr style=\"text-align: right;\">\n",
       "      <th></th>\n",
       "      <th>League</th>\n",
       "      <th>Team</th>\n",
       "      <th>bCount</th>\n",
       "      <th>rCount</th>\n",
       "      <th>total</th>\n",
       "    </tr>\n",
       "  </thead>\n",
       "  <tbody>\n",
       "    <tr>\n",
       "      <th>0</th>\n",
       "      <td>LCK</td>\n",
       "      <td>JAG</td>\n",
       "      <td>63</td>\n",
       "      <td>69</td>\n",
       "      <td>132</td>\n",
       "    </tr>\n",
       "    <tr>\n",
       "      <th>1</th>\n",
       "      <td>LCK</td>\n",
       "      <td>kt</td>\n",
       "      <td>76</td>\n",
       "      <td>52</td>\n",
       "      <td>128</td>\n",
       "    </tr>\n",
       "    <tr>\n",
       "      <th>2</th>\n",
       "      <td>LCK</td>\n",
       "      <td>SKT</td>\n",
       "      <td>77</td>\n",
       "      <td>39</td>\n",
       "      <td>116</td>\n",
       "    </tr>\n",
       "    <tr>\n",
       "      <th>3</th>\n",
       "      <td>LCK</td>\n",
       "      <td>SSG</td>\n",
       "      <td>55</td>\n",
       "      <td>54</td>\n",
       "      <td>109</td>\n",
       "    </tr>\n",
       "    <tr>\n",
       "      <th>4</th>\n",
       "      <td>NALCS</td>\n",
       "      <td>CLG</td>\n",
       "      <td>53</td>\n",
       "      <td>42</td>\n",
       "      <td>95</td>\n",
       "    </tr>\n",
       "    <tr>\n",
       "      <th>5</th>\n",
       "      <td>EULCS</td>\n",
       "      <td>FNC</td>\n",
       "      <td>56</td>\n",
       "      <td>36</td>\n",
       "      <td>92</td>\n",
       "    </tr>\n",
       "    <tr>\n",
       "      <th>6</th>\n",
       "      <td>NALCS</td>\n",
       "      <td>C9</td>\n",
       "      <td>55</td>\n",
       "      <td>37</td>\n",
       "      <td>92</td>\n",
       "    </tr>\n",
       "    <tr>\n",
       "      <th>7</th>\n",
       "      <td>NALCS</td>\n",
       "      <td>TSM</td>\n",
       "      <td>52</td>\n",
       "      <td>33</td>\n",
       "      <td>85</td>\n",
       "    </tr>\n",
       "    <tr>\n",
       "      <th>8</th>\n",
       "      <td>EULCS</td>\n",
       "      <td>H2K</td>\n",
       "      <td>49</td>\n",
       "      <td>30</td>\n",
       "      <td>79</td>\n",
       "    </tr>\n",
       "    <tr>\n",
       "      <th>9</th>\n",
       "      <td>LMS</td>\n",
       "      <td>ahq</td>\n",
       "      <td>52</td>\n",
       "      <td>19</td>\n",
       "      <td>71</td>\n",
       "    </tr>\n",
       "  </tbody>\n",
       "</table>\n",
       "</div>"
      ],
      "text/plain": [
       "  League Team  bCount  rCount  total\n",
       "0    LCK  JAG      63      69    132\n",
       "1    LCK   kt      76      52    128\n",
       "2    LCK  SKT      77      39    116\n",
       "3    LCK  SSG      55      54    109\n",
       "4  NALCS  CLG      53      42     95\n",
       "5  EULCS  FNC      56      36     92\n",
       "6  NALCS   C9      55      37     92\n",
       "7  NALCS  TSM      52      33     85\n",
       "8  EULCS  H2K      49      30     79\n",
       "9    LMS  ahq      52      19     71"
      ]
     },
     "execution_count": 51,
     "metadata": {},
     "output_type": "execute_result"
    }
   ],
   "source": [
    "win_count"
   ]
  },
  {
   "cell_type": "code",
   "execution_count": 52,
   "metadata": {},
   "outputs": [
    {
     "data": {
      "text/plain": [
       "Text(0.5, 1.0, 'Top 10 Team by Win Count')"
      ]
     },
     "execution_count": 52,
     "metadata": {},
     "output_type": "execute_result"
    },
    {
     "data": {
      "image/png": "[encoded data removed]",
      "text/plain": [
       "<Figure size 432x288 with 1 Axes>"
      ]
     },
     "metadata": {},
     "output_type": "display_data"
    }
   ],
   "source": [
    "g = sns.barplot('Team','total',data=win_count,hue='League',\n",
    "                dodge=False)\n",
    "\n",
    "g.set_xlabel(\"Teams\")\n",
    "g.set_ylabel(\"# of Wins\")\n",
    "plt.title('Top 10 Team by Win Count')"
   ]
  },
  {
   "cell_type": "markdown",
   "metadata": {},
   "source": [
    "Based on the graph above, Out of 10 teams, top 4 Teams are from LCK, 3 teams are from NALCS and 2 teams are from EULCS. This would explain why LCK was on top with number of Wins. \n",
    "\n",
    "SKT, and SSG have both been world Champions. SKT has been world Champion 3 times, thanks to their Star Player, Lee Sang-hyeok, better known as **Faker**, who is considered as the best player that LOL community has ever seen in the history of LOL."
   ]
  },
  {
   "cell_type": "code",
   "execution_count": null,
   "metadata": {},
   "outputs": [],
   "source": []
  },
  {
   "cell_type": "code",
   "execution_count": null,
   "metadata": {},
   "outputs": [],
   "source": []
  },
  {
   "cell_type": "code",
   "execution_count": null,
   "metadata": {},
   "outputs": [],
   "source": []
  },
  {
   "cell_type": "markdown",
   "metadata": {},
   "source": [
    "# Machine Learning\n",
    "\n",
    "Let's do so machine learning work now."
   ]
  },
  {
   "cell_type": "code",
   "execution_count": 76,
   "metadata": {},
   "outputs": [],
   "source": [
    "# drop these columns since they aren't useful in predicting game outcomes.\n",
    "final_df = lol1.drop('League','blueTeamTag','redTeamTag')"
   ]
  },
  {
   "cell_type": "code",
   "execution_count": 77,
   "metadata": {},
   "outputs": [],
   "source": [
    "from pyspark.ml.feature import VectorAssembler\n",
    "feature_assembler=VectorAssembler(inputCols=final_df.drop('winner').columns,\n",
    "                                  outputCol='all_features')\n",
    "new_df=feature_assembler.transform(final_df)\n",
    "new_df=new_df.select(['all_features','Winner'])"
   ]
  },
  {
   "cell_type": "code",
   "execution_count": 78,
   "metadata": {},
   "outputs": [
    {
     "name": "stdout",
     "output_type": "stream",
     "text": [
      "+--------------------+------+\n",
      "|        all_features|Winner|\n",
      "+--------------------+------+\n",
      "|[40.0,59940.0,9.0...|     0|\n",
      "|[38.0,56911.0,8.0...|     1|\n",
      "|(15,[0,1,2,3,5,8,...|     0|\n",
      "|(15,[0,1,2,3,8,9,...|     1|\n",
      "|[35.0,57109.0,14....|     0|\n",
      "|[39.0,64893.0,17....|     0|\n",
      "|(15,[0,1,2,3,5,8,...|     0|\n",
      "|(15,[0,1,2,3,8,9,...|     1|\n",
      "|[32.0,53299.0,13....|     0|\n",
      "|[52.0,76820.0,2.0...|     0|\n",
      "|(15,[0,1,2,3,8,9,...|     0|\n",
      "|(15,[0,1,2,3,5,8,...|     0|\n",
      "|[33.0,53136.0,8.0...|     0|\n",
      "|(15,[0,1,2,3,5,8,...|     0|\n",
      "|(15,[0,1,2,3,8,9,...|     1|\n",
      "|(15,[0,1,2,3,5,8,...|     0|\n",
      "|[40.0,59954.0,12....|     0|\n",
      "|[39.0,59653.0,10....|     1|\n",
      "|[49.0,70466.0,6.0...|     1|\n",
      "|[35.0,53338.0,10....|     0|\n",
      "+--------------------+------+\n",
      "only showing top 20 rows\n",
      "\n"
     ]
    }
   ],
   "source": [
    "new_df.show()"
   ]
  },
  {
   "cell_type": "code",
   "execution_count": 79,
   "metadata": {},
   "outputs": [],
   "source": [
    "# split the dataset and set the seed to 42\n",
    "train, test = new_df.randomSplit([0.8, 0.2],seed=42)"
   ]
  },
  {
   "cell_type": "code",
   "execution_count": 80,
   "metadata": {},
   "outputs": [
    {
     "name": "stdout",
     "output_type": "stream",
     "text": [
      "+-------------------------------------------------------------------+------+\n",
      "|all_features                                                       |Winner|\n",
      "+-------------------------------------------------------------------+------+\n",
      "|(15,[0,1,2,3,4,5,8,9],[32.0,58555.0,13.0,7.0,1.0,3.0,45369.0,5.0]) |0     |\n",
      "|(15,[0,1,2,3,4,5,8,9],[33.0,60882.0,13.0,7.0,1.0,4.0,49966.0,4.0]) |0     |\n",
      "|(15,[0,1,2,3,4,5,8,9],[35.0,60445.0,13.0,7.0,1.0,4.0,45392.0,4.0]) |0     |\n",
      "|(15,[0,1,2,3,4,5,8,9],[37.0,68653.0,7.0,7.0,1.0,3.0,52971.0,1.0])  |0     |\n",
      "|(15,[0,1,2,3,4,5,8,10],[33.0,59805.0,13.0,7.0,2.0,4.0,47264.0,1.0])|0     |\n",
      "|(15,[0,1,2,3,4,8,10,12],[33.0,58455.0,8.0,6.0,1.0,49132.0,2.0,2.0])|0     |\n",
      "|(15,[0,1,2,3,5,6,8,9],[35.0,61029.0,15.0,6.0,3.0,1.0,53461.0,7.0]) |0     |\n",
      "|(15,[0,1,2,3,5,7,8,10],[34.0,60014.0,10.0,6.0,3.0,1.0,46303.0,2.0])|0     |\n",
      "|(15,[0,1,2,3,5,8,9],[32.0,56212.0,2.0,6.0,3.0,44007.0,1.0])        |0     |\n",
      "|(15,[0,1,2,3,5,8,9],[35.0,59620.0,4.0,5.0,3.0,50874.0,4.0])        |0     |\n",
      "+-------------------------------------------------------------------+------+\n",
      "only showing top 10 rows\n",
      "\n"
     ]
    }
   ],
   "source": [
    "train.show(10,truncate=False)"
   ]
  },
  {
   "cell_type": "code",
   "execution_count": 81,
   "metadata": {},
   "outputs": [],
   "source": [
    "# Since its Classification Problem, we'll do Logistic Regression, Decision tree, and Random forest classifier.\n",
    "from pyspark.ml.classification import LogisticRegression\n",
    "from pyspark.ml.classification import RandomForestClassifier\n",
    "from pyspark.ml.classification import DecisionTreeClassifier\n",
    "\n",
    "# module to calculate accuracy\n",
    "from pyspark.mllib.evaluation import MulticlassMetrics"
   ]
  },
  {
   "cell_type": "code",
   "execution_count": null,
   "metadata": {},
   "outputs": [],
   "source": []
  },
  {
   "cell_type": "code",
   "execution_count": 99,
   "metadata": {},
   "outputs": [],
   "source": [
    "win_actual = test.select('Winner').toPandas()"
   ]
  },
  {
   "cell_type": "markdown",
   "metadata": {},
   "source": [
    "## Logistic Regression"
   ]
  },
  {
   "cell_type": "code",
   "execution_count": 96,
   "metadata": {},
   "outputs": [],
   "source": [
    "lr = LogisticRegression(featuresCol = 'all_features', labelCol = 'Winner')\n",
    "lrModel = lr.fit(train)\n",
    "\n",
    "predictions = lrModel.transform(test)\n",
    "\n",
    "# graphing purpooses\n",
    "preds = predictions.select('prediction').withColumnRenamed('prediction','LR_prediction').toPandas()"
   ]
  },
  {
   "cell_type": "code",
   "execution_count": 97,
   "metadata": {},
   "outputs": [
    {
     "name": "stdout",
     "output_type": "stream",
     "text": [
      "The Accuracy of Logistic Regression is 91.50%\n"
     ]
    }
   ],
   "source": [
    "preds_and_labels = predictions.select(['prediction','Winner'])\\\n",
    "                    .withColumn('label', F.col('Winner').cast(FloatType())).orderBy('prediction')\n",
    "\n",
    "#select only prediction and label columns\n",
    "preds_and_labels = preds_and_labels.select(['prediction', 'label'])\n",
    "\n",
    "metrics = MulticlassMetrics(preds_and_labels.rdd.map(tuple))\n",
    "\n",
    "conf_matr = metrics.confusionMatrix().toArray()\n",
    "ACC = (conf_matr[0][0] + conf_matr[1][1]) / np.sum(conf_matr)\n",
    "\n",
    "print(f'The Accuracy of Logistic Regression is {ACC*100:.2f}%')"
   ]
  },
  {
   "cell_type": "code",
   "execution_count": 100,
   "metadata": {},
   "outputs": [
    {
     "data": {
      "image/png": "[encoded data removed]",
      "text/plain": [
       "<Figure size 432x288 with 2 Axes>"
      ]
     },
     "metadata": {},
     "output_type": "display_data"
    }
   ],
   "source": [
    "confusion_matrix = pd.crosstab(win_actual['Winner'], preds['LR_prediction'], \n",
    "                               rownames=['Actual'], colnames=['Predicted'])\n",
    "sns.heatmap(confusion_matrix, annot=True,fmt='.2f')\n",
    "plt.title('Logistic Regression')\n",
    "plt.show()\n"
   ]
  },
  {
   "cell_type": "markdown",
   "metadata": {},
   "source": [
    "## Random Forest Classifier "
   ]
  },
  {
   "cell_type": "code",
   "execution_count": 106,
   "metadata": {},
   "outputs": [],
   "source": [
    "rf = RandomForestClassifier(featuresCol = 'all_features', labelCol = 'Winner',numTrees=10)\n",
    "rfModel = rf.fit(train)\n",
    "predictions1 = rfModel.transform(test)\n",
    "\n",
    "# graphing purpooses\n",
    "preds1 = predictions1.select('prediction').withColumnRenamed('prediction','RF_prediction').toPandas()"
   ]
  },
  {
   "cell_type": "code",
   "execution_count": 107,
   "metadata": {},
   "outputs": [
    {
     "name": "stdout",
     "output_type": "stream",
     "text": [
      "The Accuracy of Random Forest is 84.94%\n"
     ]
    }
   ],
   "source": [
    "preds_and_labels1 = predictions1.select(['prediction','Winner'])\\\n",
    "                    .withColumn('label', F.col('Winner').cast(FloatType())).orderBy('prediction')\n",
    "\n",
    "#select only prediction and label columns\n",
    "preds_and_labels1 = preds_and_labels1.select(['prediction', 'label'])\n",
    "\n",
    "metrics1 = MulticlassMetrics(preds_and_labels1.rdd.map(tuple))\n",
    "\n",
    "conf_matr1 = metrics1.confusionMatrix().toArray()\n",
    "ACC1 = (conf_matr1[0][0] + conf_matr1[1][1]) / np.sum(conf_matr1)\n",
    "\n",
    "print(f'The Accuracy of Random Forest is {ACC1*100:.2f}%')"
   ]
  },
  {
   "cell_type": "code",
   "execution_count": 108,
   "metadata": {},
   "outputs": [
    {
     "data": {
      "image/png": "[encoded data removed]",
      "text/plain": [
       "<Figure size 432x288 with 2 Axes>"
      ]
     },
     "metadata": {},
     "output_type": "display_data"
    }
   ],
   "source": [
    "confusion_matrix = pd.crosstab(win_actual['Winner'], preds1['RF_prediction'], \n",
    "                               rownames=['Actual'], colnames=['Predicted'])\n",
    "sns.heatmap(confusion_matrix, annot=True,fmt='.2f')\n",
    "plt.title('Random Forest')\n",
    "plt.show()\n"
   ]
  },
  {
   "cell_type": "markdown",
   "metadata": {},
   "source": [
    "## Decision Tree Classifier "
   ]
  },
  {
   "cell_type": "code",
   "execution_count": 109,
   "metadata": {},
   "outputs": [],
   "source": [
    "dt = DecisionTreeClassifier(featuresCol = 'all_features', labelCol = 'Winner')\n",
    "dtModel = dt.fit(train)\n",
    "predictions2 = dtModel.transform(test)\n",
    "\n",
    "# graphing purpooses\n",
    "preds2 = predictions2.select('prediction').withColumnRenamed('prediction','DT_prediction').toPandas()"
   ]
  },
  {
   "cell_type": "code",
   "execution_count": 110,
   "metadata": {},
   "outputs": [
    {
     "name": "stdout",
     "output_type": "stream",
     "text": [
      "The Accuracy of Decision Tree is 87.43%\n"
     ]
    }
   ],
   "source": [
    "preds_and_labels2 = predictions2.select(['prediction','Winner'])\\\n",
    "                    .withColumn('label', F.col('Winner').cast(FloatType())).orderBy('prediction')\n",
    "\n",
    "#select only prediction and label columns\n",
    "preds_and_labels2 = preds_and_labels2.select(['prediction', 'label'])\n",
    "\n",
    "metrics2 = MulticlassMetrics(preds_and_labels2.rdd.map(tuple))\n",
    "\n",
    "conf_matr2 = metrics2.confusionMatrix().toArray()\n",
    "ACC2 = (conf_matr2[0][0] + conf_matr2[1][1]) / np.sum(conf_matr2)\n",
    "\n",
    "print(f'The Accuracy of Decision Tree is {ACC2*100:.2f}%')"
   ]
  },
  {
   "cell_type": "code",
   "execution_count": 126,
   "metadata": {},
   "outputs": [
    {
     "data": {
      "image/png": "[encoded data removed]",
      "text/plain": [
       "<Figure size 432x288 with 2 Axes>"
      ]
     },
     "metadata": {},
     "output_type": "display_data"
    }
   ],
   "source": [
    "confusion_matrix = pd.crosstab(win_actual['Winner'], preds2['DT_prediction'], \n",
    "                               rownames=['Actual'], colnames=['Predicted'])\n",
    "\n",
    "sns.heatmap(confusion_matrix, annot=True,fmt='.2f')\n",
    "plt.title('Decision Tree')\n",
    "plt.show()\n"
   ]
  },
  {
   "cell_type": "code",
   "execution_count": 176,
   "metadata": {},
   "outputs": [],
   "source": [
    "from pyspark.mllib.evaluation import BinaryClassificationMetrics\n",
    "\n",
    "# Thanks tot Alex Ross for this handy function to help us plot ROC curve\n",
    "# https://stackoverflow.com/questions/52847408/pyspark-extract-roc-curve\n",
    "\n",
    "class CurveMetrics(BinaryClassificationMetrics):\n",
    "    def __init__(self, *args):\n",
    "        super(CurveMetrics, self).__init__(*args)\n",
    "\n",
    "    def _to_list(self, rdd):\n",
    "        points = []\n",
    "        for row in rdd.collect():\n",
    "            points += [(float(row._1()), float(row._2()))]\n",
    "        return points\n",
    "\n",
    "    def get_curve(self, method):\n",
    "        rdd = getattr(self._java_model, method)().toJavaRDD()\n",
    "        return self._to_list(rdd)"
   ]
  },
  {
   "cell_type": "code",
   "execution_count": 177,
   "metadata": {},
   "outputs": [],
   "source": [
    "preds = predictions.select('Winner','probability').rdd.map(lambda row: (float(row['probability'][1]), float(row['Winner'])))\n",
    "preds1 = predictions1.select('Winner','probability').rdd.map(lambda row: (float(row['probability'][1]), float(row['Winner'])))\n",
    "preds2 = predictions2.select('Winner','probability').rdd.map(lambda row: (float(row['probability'][1]), float(row['Winner'])))\n",
    "\n",
    "points = CurveMetrics(preds).get_curve('roc')\n",
    "points1 = CurveMetrics(preds1).get_curve('roc')\n",
    "points2 = CurveMetrics(preds2).get_curve('roc')\n",
    "\n"
   ]
  },
  {
   "cell_type": "code",
   "execution_count": 178,
   "metadata": {},
   "outputs": [
    {
     "data": {
      "text/plain": [
       "<matplotlib.legend.Legend at 0x7fe1de7fbfd0>"
      ]
     },
     "execution_count": 178,
     "metadata": {},
     "output_type": "execute_result"
    },
    {
     "data": {
      "image/png": "[encoded data removed]",
      "text/plain": [
       "<Figure size 432x288 with 1 Axes>"
      ]
     },
     "metadata": {},
     "output_type": "display_data"
    }
   ],
   "source": [
    "x_val = [x[0] for x in points]\n",
    "y_val = [x[1] for x in points]\n",
    "\n",
    "x_val1 = [x[0] for x in points1]\n",
    "y_val1 = [x[1] for x in points1]\n",
    "\n",
    "x_val2 = [x[0] for x in points2]\n",
    "y_val2 = [x[1] for x in points2]\n",
    "\n",
    "plt.title('ROC')\n",
    "plt.xlabel('False Positive Rate')\n",
    "plt.ylabel('True Positive Rate')\n",
    "plt.plot(x_val, y_val, label='LR')\n",
    "plt.plot(x_val1, y_val1,label='RF')\n",
    "plt.plot(x_val2, y_val2,label='DT')\n",
    "plt.legend()\n"
   ]
  },
  {
   "cell_type": "markdown",
   "metadata": {},
   "source": [
    "So, out of the three models that we picked. **Logistic Regression** Is the Best Performing model with **91.50%** accuracy"
   ]
  },
  {
   "cell_type": "code",
   "execution_count": null,
   "metadata": {},
   "outputs": [],
   "source": []
  },
  {
   "cell_type": "markdown",
   "metadata": {},
   "source": [
    "# ML with GridSearch in SkLearn"
   ]
  },
  {
   "cell_type": "code",
   "execution_count": 179,
   "metadata": {},
   "outputs": [],
   "source": [
    "from sklearn.ensemble import RandomForestClassifier\n",
    "from sklearn.metrics import accuracy_score\n",
    "from sklearn.pipeline import Pipeline\n",
    "from sklearn.model_selection import GridSearchCV,train_test_split"
   ]
  },
  {
   "cell_type": "code",
   "execution_count": 180,
   "metadata": {},
   "outputs": [],
   "source": [
    "grid_df = lol1.drop('League','blueTeamTag','redTeamTag')"
   ]
  },
  {
   "cell_type": "code",
   "execution_count": 181,
   "metadata": {},
   "outputs": [
    {
     "name": "stdout",
     "output_type": "stream",
     "text": [
      "+----------+--------+------+-------+-------+--------+-------+--------+-------+------+-------+-------+--------+-------+--------+------+\n",
      "|gamelength|goldblue|bKills|bTowers|bInhibs|bDragons|bBarons|bHeralds|goldred|rKills|rTowers|rInhibs|rDragons|rBarons|rHeralds|Winner|\n",
      "+----------+--------+------+-------+-------+--------+-------+--------+-------+------+-------+-------+--------+-------+--------+------+\n",
      "|        40|   59940|     9|      6|      1|       0|      0|       0|  55254|     5|      3|      0|       2|      0|       0|     0|\n",
      "|        38|   56911|     8|      5|      0|       2|      0|       0|  53185|     7|      5|      0|       1|      0|       0|     1|\n",
      "|        40|   68928|    15|      6|      0|       2|      0|       0|  55004|     7|      1|      0|       0|      0|       0|     0|\n",
      "+----------+--------+------+-------+-------+--------+-------+--------+-------+------+-------+-------+--------+-------+--------+------+\n",
      "only showing top 3 rows\n",
      "\n"
     ]
    }
   ],
   "source": [
    "grid_df.show(3)"
   ]
  },
  {
   "cell_type": "markdown",
   "metadata": {},
   "source": [
    "To do GridSearch with PySpark DataFrame, we have to create multiple copies of same data, hence the code below with replication_df dataframe. Currently, I don't have access to a cluster, so we won't see much speed advantage but the speedup factor certainly depends on how many nodes you have in your cluster."
   ]
  },
  {
   "cell_type": "code",
   "execution_count": 182,
   "metadata": {},
   "outputs": [],
   "source": [
    "replication_df = spark.createDataFrame(pd.DataFrame(list(range(1,50)),columns=['replication_id']))\n",
    "replicated_train_df = grid_df.crossJoin(replication_df)"
   ]
  },
  {
   "cell_type": "code",
   "execution_count": 183,
   "metadata": {},
   "outputs": [],
   "source": [
    "from pyspark.sql.types import *\n",
    "from sklearn.linear_model import LogisticRegression\n",
    "from sklearn.tree import DecisionTreeClassifier\n"
   ]
  },
  {
   "cell_type": "code",
   "execution_count": 184,
   "metadata": {},
   "outputs": [],
   "source": [
    "# Funciton was adapted from \n",
    "# https://towardsdatascience.com/100x-faster-randomized-hyperparameter-searching-framework-with-pyspark-4de19e44f5e6\n",
    "# 0. Declare the schema for the output of our function\n",
    "\n",
    "outSchema = StructType([StructField('replication_id',IntegerType(),True),\n",
    "                        StructField('classifier',StringType(),True),\n",
    "                        StructField('means',FloatType(),True),\n",
    "                        StructField('stds',FloatType(),True)\n",
    "                       ])\n",
    "\n",
    "\n",
    "# decorate our function with pandas_udf decorator\n",
    "@F.pandas_udf(outSchema, F.PandasUDFType.GROUPED_MAP)\n",
    "def run_model(pdf):\n",
    "    \n",
    "    # 1. Get randomized hyperparam values\n",
    "    pipe = Pipeline(steps=[('classifier',LogisticRegression())])\n",
    "    param_grid=[\n",
    "       {\n",
    "\n",
    "           'classifier':[LogisticRegression()]\n",
    "        },\n",
    "        {\n",
    "            'classifier':[RandomForestClassifier()],\n",
    "            'classifier__n_estimators':[10,20],\n",
    "            'classifier__criterion':['gini','entropy'],\n",
    "            'classifier__max_features':['auto','sqrt','log2']\n",
    "        },\n",
    "        {\n",
    "            'classifier':[DecisionTreeClassifier()],\n",
    "            'classifier__criterion':['gini','entropy'],\n",
    "            'classifier__max_features':['auto','sqrt','log2']       \n",
    "        }\n",
    "    ]\n",
    "    \n",
    "    # 2. Train test split\n",
    "    X = pdf[['gamelength',\n",
    "             'goldblue','bKills','bTowers','bInhibs','bDragons','bBarons','bHeralds',\n",
    "             'goldred','rKills','rTowers','rInhibs','rDragons','rBarons','rHeralds'\n",
    "            ]]\n",
    "    y = pdf['Winner']\n",
    "    Xtrain,Xcv,ytrain,ycv = train_test_split(X, y, test_size=0.33, random_state=42)\n",
    "    \n",
    "    # 3. Create model using the pandas dataframe\n",
    "    clf = GridSearchCV(pipe,param_grid=param_grid,n_jobs=-1)\n",
    "    best = clf.fit(Xtrain,ytrain)\n",
    "    \n",
    "    # 4. Evaluate the model\n",
    "    means = best.cv_results_['mean_test_score']\n",
    "    stds = best.cv_results_['std_test_score']\n",
    "    \n",
    "    classes=[]\n",
    "    for j in best.cv_results_['params']:\n",
    "        print(str(j['classifier']).split('(')[0]+\"()\")\n",
    "        classes.append(str(j['classifier']).split('(')[0]+\"()\")\n",
    "        \n",
    "     # 5. return results as pandas DF\n",
    "    replication_id = pdf.replication_id.values[0]\n",
    "\n",
    "    res = pd.DataFrame({'replication_id':replication_id,'classifier':classes,'means':means,'stds':stds})\n",
    "    \n",
    "    return res"
   ]
  },
  {
   "cell_type": "code",
   "execution_count": 185,
   "metadata": {},
   "outputs": [],
   "source": [
    "results = replicated_train_df.groupby(\"replication_id\").apply(run_model)"
   ]
  },
  {
   "cell_type": "code",
   "execution_count": 186,
   "metadata": {},
   "outputs": [
    {
     "name": "stdout",
     "output_type": "stream",
     "text": [
      "+--------------+--------------------+---------+-----------+\n",
      "|replication_id|          classifier|    means|       stds|\n",
      "+--------------+--------------------+---------+-----------+\n",
      "|            26|LogisticRegression()|0.9150267|0.009259326|\n",
      "|            26|RandomForestClass...| 0.865637|0.008664461|\n",
      "|            26|RandomForestClass...|0.8770541|0.012563881|\n",
      "|            26|RandomForestClass...|0.8656349|0.014884358|\n",
      "|            26|RandomForestClass...|0.8767864|0.012346954|\n",
      "+--------------+--------------------+---------+-----------+\n",
      "only showing top 5 rows\n",
      "\n"
     ]
    }
   ],
   "source": [
    "results.show(5)#sort(F.desc(\"means\")).show(5)"
   ]
  },
  {
   "cell_type": "code",
   "execution_count": 187,
   "metadata": {},
   "outputs": [
    {
     "name": "stdout",
     "output_type": "stream",
     "text": [
      "+--------------+--------------------+---------+-----------+\n",
      "|replication_id|          classifier|    means|       stds|\n",
      "+--------------+--------------------+---------+-----------+\n",
      "|            31|LogisticRegression()|0.9150267|0.009259326|\n",
      "|            34|LogisticRegression()|0.9150267|0.009259326|\n",
      "|            19|LogisticRegression()|0.9150267|0.009259326|\n",
      "|            22|LogisticRegression()|0.9150267|0.009259326|\n",
      "|             7|LogisticRegression()|0.9150267|0.009259326|\n",
      "+--------------+--------------------+---------+-----------+\n",
      "only showing top 5 rows\n",
      "\n",
      "CPU times: user 25.7 ms, sys: 22.8 ms, total: 48.4 ms\n",
      "Wall time: 2min 37s\n"
     ]
    }
   ],
   "source": [
    "%%time\n",
    "results.sort(F.desc(\"means\")).show(5)\n"
   ]
  },
  {
   "cell_type": "code",
   "execution_count": 188,
   "metadata": {},
   "outputs": [
    {
     "name": "stdout",
     "output_type": "stream",
     "text": [
      "CPU times: user 50.3 ms, sys: 56.5 ms, total: 107 ms\n",
      "Wall time: 2min 13s\n"
     ]
    },
    {
     "data": {
      "text/html": [
       "<div>\n",
       "<style scoped>\n",
       "    .dataframe tbody tr th:only-of-type {\n",
       "        vertical-align: middle;\n",
       "    }\n",
       "\n",
       "    .dataframe tbody tr th {\n",
       "        vertical-align: top;\n",
       "    }\n",
       "\n",
       "    .dataframe thead th {\n",
       "        text-align: right;\n",
       "    }\n",
       "</style>\n",
       "<table border=\"1\" class=\"dataframe\">\n",
       "  <thead>\n",
       "    <tr style=\"text-align: right;\">\n",
       "      <th></th>\n",
       "      <th>replication_id</th>\n",
       "      <th>classifier</th>\n",
       "      <th>means</th>\n",
       "      <th>stds</th>\n",
       "    </tr>\n",
       "  </thead>\n",
       "  <tbody>\n",
       "    <tr>\n",
       "      <th>0</th>\n",
       "      <td>26</td>\n",
       "      <td>LogisticRegression()</td>\n",
       "      <td>0.915027</td>\n",
       "      <td>0.009259</td>\n",
       "    </tr>\n",
       "    <tr>\n",
       "      <th>1</th>\n",
       "      <td>26</td>\n",
       "      <td>RandomForestClassifier()</td>\n",
       "      <td>0.870421</td>\n",
       "      <td>0.010956</td>\n",
       "    </tr>\n",
       "    <tr>\n",
       "      <th>2</th>\n",
       "      <td>26</td>\n",
       "      <td>RandomForestClassifier()</td>\n",
       "      <td>0.878380</td>\n",
       "      <td>0.015171</td>\n",
       "    </tr>\n",
       "    <tr>\n",
       "      <th>3</th>\n",
       "      <td>26</td>\n",
       "      <td>RandomForestClassifier()</td>\n",
       "      <td>0.865634</td>\n",
       "      <td>0.014676</td>\n",
       "    </tr>\n",
       "    <tr>\n",
       "      <th>4</th>\n",
       "      <td>26</td>\n",
       "      <td>RandomForestClassifier()</td>\n",
       "      <td>0.873865</td>\n",
       "      <td>0.014493</td>\n",
       "    </tr>\n",
       "  </tbody>\n",
       "</table>\n",
       "</div>"
      ],
      "text/plain": [
       "   replication_id                classifier     means      stds\n",
       "0              26      LogisticRegression()  0.915027  0.009259\n",
       "1              26  RandomForestClassifier()  0.870421  0.010956\n",
       "2              26  RandomForestClassifier()  0.878380  0.015171\n",
       "3              26  RandomForestClassifier()  0.865634  0.014676\n",
       "4              26  RandomForestClassifier()  0.873865  0.014493"
      ]
     },
     "execution_count": 188,
     "metadata": {},
     "output_type": "execute_result"
    }
   ],
   "source": [
    "%%time\n",
    "grid_pand = results.toPandas()\n",
    "grid_pand.head(5)"
   ]
  },
  {
   "cell_type": "code",
   "execution_count": 189,
   "metadata": {},
   "outputs": [
    {
     "data": {
      "text/plain": [
       "<matplotlib.legend.Legend at 0x7fe1de9c6ca0>"
      ]
     },
     "execution_count": 189,
     "metadata": {},
     "output_type": "execute_result"
    },
    {
     "data": {
      "image/png": "[encoded data removed]",
      "text/plain": [
       "<Figure size 432x288 with 1 Axes>"
      ]
     },
     "metadata": {},
     "output_type": "display_data"
    }
   ],
   "source": [
    "sns.lineplot(data=grid_pand, x=range(1,len(grid_pand)+1), y=\"means\", hue=\"classifier\")\n",
    "\n",
    "plt.legend(['LR','RF','DT'])"
   ]
  },
  {
   "cell_type": "markdown",
   "metadata": {},
   "source": [
    "As you can see, Logistic Regression was steady at around 91% for accuracy score with all the replication_id, Random Forest was second in performance and Decision Tree was the last one but it looks like graph output was similar to the one with Random Forest"
   ]
  },
  {
   "cell_type": "code",
   "execution_count": null,
   "metadata": {},
   "outputs": [],
   "source": []
  }
 ],
 "metadata": {
  "kernelspec": {
   "display_name": "Python 3",
   "language": "python",
   "name": "python3"
  },
  "language_info": {
   "codemirror_mode": {
    "name": "ipython",
    "version": 3
   },
   "file_extension": ".py",
   "mimetype": "text/x-python",
   "name": "python",
   "nbconvert_exporter": "python",
   "pygments_lexer": "ipython3",
   "version": "3.8.5"
  }
 },
 "nbformat": 4,
 "nbformat_minor": 4
}
